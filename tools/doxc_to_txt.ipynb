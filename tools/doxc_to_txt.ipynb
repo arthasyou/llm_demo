{
 "cells": [
  {
   "cell_type": "code",
   "execution_count": 1,
   "metadata": {},
   "outputs": [],
   "source": [
    "from docx import Document\n",
    "\n",
    "def convert_docx_to_txt(docx_file, txt_file):\n",
    "    # 打开docx文件\n",
    "    doc = Document(docx_file)\n",
    "\n",
    "    # 创建一个空字符串，用于保存纯文本内容\n",
    "    text_content = \"\"\n",
    "\n",
    "    # 遍历docx文件中的段落\n",
    "    for para in doc.paragraphs:\n",
    "        # 将每个段落的文本内容追加到text_content中\n",
    "        text_content += para.text + \"\\n\"\n",
    "\n",
    "    # 将纯文本内容写入txt文件\n",
    "    with open(txt_file, \"w\", encoding=\"utf-8\") as file:\n",
    "        file.write(text_content)\n",
    "\n",
    "\n"
   ]
  },
  {
   "cell_type": "code",
   "execution_count": 3,
   "metadata": {},
   "outputs": [],
   "source": [
    "# 调用函数进行转换\n",
    "convert_docx_to_txt(\"../data/hdnj6.docx\", \"../data/hdnj6.txt\")"
   ]
  },
  {
   "cell_type": "code",
   "execution_count": 4,
   "metadata": {},
   "outputs": [],
   "source": [
    "from docx import Document\n",
    "import os\n",
    "\n",
    "def convert_docx_to_txt(docx_dir, txt_dir):\n",
    "    # 获取docx目录下所有的文件名\n",
    "    docx_files = os.listdir(docx_dir)\n",
    "\n",
    "    # 遍历每个docx文件\n",
    "    for docx_file in docx_files:\n",
    "        # 检查文件扩展名是否为docx\n",
    "        if docx_file.endswith(\".docx\"):\n",
    "            # 构建docx文件的完整路径\n",
    "            docx_path = os.path.join(docx_dir, docx_file)\n",
    "\n",
    "            # 构建对应的txt文件路径和文件名\n",
    "            txt_file = os.path.splitext(docx_file)[0] + \".txt\"\n",
    "            txt_path = os.path.join(txt_dir, txt_file)\n",
    "\n",
    "            # 打开docx文件\n",
    "            doc = Document(docx_path)\n",
    "\n",
    "            # 创建一个空字符串，用于保存纯文本内容\n",
    "            text_content = \"\"\n",
    "\n",
    "            # 遍历docx文件中的段落\n",
    "            for para in doc.paragraphs:\n",
    "                # 将每个段落的文本内容追加到text_content中\n",
    "                text_content += para.text + \"\\n\"\n",
    "\n",
    "            # 将纯文本内容写入txt文件\n",
    "            with open(txt_path, \"w\", encoding=\"utf-8\") as file:\n",
    "                file.write(text_content)\n",
    "\n",
    "\n"
   ]
  },
  {
   "cell_type": "code",
   "execution_count": null,
   "metadata": {},
   "outputs": [],
   "source": [
    "# 调用函数进行转换，输入是docx目录和txt目录的路径\n",
    "convert_docx_to_txt(\"../data/docx\", \"../data/txt\")"
   ]
  }
 ],
 "metadata": {
  "kernelspec": {
   "display_name": "base",
   "language": "python",
   "name": "python3"
  },
  "language_info": {
   "codemirror_mode": {
    "name": "ipython",
    "version": 3
   },
   "file_extension": ".py",
   "mimetype": "text/x-python",
   "name": "python",
   "nbconvert_exporter": "python",
   "pygments_lexer": "ipython3",
   "version": "3.11.4"
  },
  "orig_nbformat": 4
 },
 "nbformat": 4,
 "nbformat_minor": 2
}
