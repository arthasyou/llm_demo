{
 "cells": [
  {
   "cell_type": "code",
   "execution_count": 2,
   "metadata": {},
   "outputs": [],
   "source": [
    "from peft import PeftModel, PeftConfig\n",
    "from transformers import AutoTokenizer, AutoModelForCausalLM\n",
    "import torch"
   ]
  },
  {
   "cell_type": "code",
   "execution_count": 3,
   "metadata": {},
   "outputs": [],
   "source": [
    "import os\n",
    "os.environ[\"CUDA_VISIBLE_DEVICES\"]=\"0\""
   ]
  },
  {
   "cell_type": "code",
   "execution_count": 4,
   "metadata": {},
   "outputs": [],
   "source": [
    "peft_model_id = \"/home/ysx/src/AI/llm_demo/outputs/new_zypt\"\n",
    "config = PeftConfig.from_pretrained(peft_model_id)\n"
   ]
  },
  {
   "cell_type": "code",
   "execution_count": 5,
   "metadata": {},
   "outputs": [
    {
     "name": "stderr",
     "output_type": "stream",
     "text": [
      "Loading checkpoint shards: 100%|██████████| 2/2 [00:11<00:00,  5.87s/it]\n"
     ]
    }
   ],
   "source": [
    "\n",
    "inference_model = AutoModelForCausalLM.from_pretrained(\n",
    "    config.base_model_name_or_path,\n",
    "    load_in_8bit=True, \n",
    "    device_map=\"auto\",\n",
    ")"
   ]
  },
  {
   "cell_type": "code",
   "execution_count": 6,
   "metadata": {},
   "outputs": [],
   "source": [
    "tokenizer = AutoTokenizer.from_pretrained(\n",
    "    config.base_model_name_or_path,\n",
    ")"
   ]
  },
  {
   "cell_type": "code",
   "execution_count": 7,
   "metadata": {},
   "outputs": [],
   "source": [
    "model = PeftModel.from_pretrained(inference_model, peft_model_id, device_map=\"auto\")"
   ]
  },
  {
   "cell_type": "code",
   "execution_count": 8,
   "metadata": {},
   "outputs": [],
   "source": [
    "model = model.eval()"
   ]
  },
  {
   "cell_type": "code",
   "execution_count": 9,
   "metadata": {},
   "outputs": [],
   "source": [
    "def generate_prompt(instruction, input):\n",
    "    return (\n",
    "        \"Below is an instruction that describes a task, paired with an input that provides further context. \"\n",
    "        \"Write a response that appropriately completes the request.\\n\\n\"\n",
    "        f\"### Instruction:\\n{instruction}\\n\\n### Input:\\n{input}\\n\\n### Response:\\n\"\n",
    "    )\n",
    "   "
   ]
  },
  {
   "cell_type": "code",
   "execution_count": null,
   "metadata": {},
   "outputs": [],
   "source": [
    "# def make_inference(instruction, input):\n",
    "#   question = generate_prompt(instruction, input)\n",
    "#   batch = tokenizer(question, return_tensors='pt')\n",
    "\n",
    "#   with torch.cuda.amp.autocast():\n",
    "#     output_tokens = model.generate(**batch, max_new_tokens=200)\n",
    "\n",
    "#   print(tokenizer.decode(output_tokens[0], skip_special_tokens=True))"
   ]
  },
  {
   "cell_type": "code",
   "execution_count": null,
   "metadata": {},
   "outputs": [],
   "source": [
    "\n",
    "# def make_inference(text):\n",
    "#   batch = tokenizer(text, return_tensors='pt')\n",
    "\n",
    "#   with torch.cuda.amp.autocast():\n",
    "#     output_tokens = model.generate(**batch, max_new_tokens=300)\n",
    "\n",
    "#   print(tokenizer.decode(output_tokens[0], skip_special_tokens=True))"
   ]
  },
  {
   "cell_type": "code",
   "execution_count": 10,
   "metadata": {},
   "outputs": [],
   "source": [
    "def make_inference(text):\n",
    "    batch = tokenizer(text, return_tensors='pt').to('cuda')\n",
    "    output_tokens = model.generate(**batch, max_new_tokens=500, temperature=0.3, top_p=0.6, do_sample=True)\n",
    "    print(tokenizer.decode(output_tokens[0], skip_special_tokens=True))"
   ]
  },
  {
   "cell_type": "code",
   "execution_count": 14,
   "metadata": {},
   "outputs": [],
   "source": [
    "def make_inference(text):\n",
    "    batch = tokenizer(text, return_tensors='pt').to('cuda')\n",
    "    output_tokens = model.generate(**batch, max_new_tokens=500)\n",
    "    print(tokenizer.decode(output_tokens[0], skip_special_tokens=True))"
   ]
  },
  {
   "cell_type": "code",
   "execution_count": 14,
   "metadata": {},
   "outputs": [],
   "source": [
    "def make_inference(i,t):\n",
    "    text = generate_prompt(i,t)\n",
    "    batch = tokenizer(text, return_tensors='pt').to('cuda')\n",
    "    output_tokens = model.generate(**batch, max_new_tokens=1000, temperature=0.7, top_p=0.6, do_sample=True)\n",
    "    print(tokenizer.decode(output_tokens[0], skip_special_tokens=True))"
   ]
  },
  {
   "cell_type": "code",
   "execution_count": 11,
   "metadata": {},
   "outputs": [],
   "source": [
    "t = \"请列举两个以上肝疏泄功能的具体表现，并简要解释。\""
   ]
  },
  {
   "cell_type": "code",
   "execution_count": 12,
   "metadata": {},
   "outputs": [],
   "source": [
    "i = \"中医理论认为“肝主疏泄”，其中肝的疏泄功能主要体现在哪些方面？\""
   ]
  },
  {
   "cell_type": "code",
   "execution_count": 15,
   "metadata": {},
   "outputs": [
    {
     "name": "stdout",
     "output_type": "stream",
     "text": [
      "Below is an instruction that describes a task, paired with an input that provides further context. Write a response that appropriately completes the request.\n",
      "\n",
      "### Instruction:\n",
      "中医理论认为“肝主疏泄”，其中肝的疏泄功能主要体现在哪些方面？\n",
      "\n",
      "### Input:\n",
      "请列举两个以上肝疏泄功能的具体表现，并简要解释。\n",
      "\n",
      "### Response:\n",
      "中医理论认为“肝主疏泄”，其中肝的疏泄功能主要体现在以下几个方面：\n",
      "\n",
      "1. 疏泄气机：肝主疏泄，其主要功能之一就是调节气机，使气机通畅，从而维持人体的生理功能。肝气的调节作用主要体现在肝的升发和疏泄两个方面。肝气的升发是指肝气能够推动气机升举，促进气机的升降运动，从而维持气机的正常运行。肝气的疏泄是指肝气能够推动气机下行，使气机得以下行，从而使气机的升降运动得以完成。肝气的升降运动是气机运动的基础，因此，肝气的升发和疏泄功能对于维持气机的正常运行具有重要的意义。\n",
      "\n",
      "2. 调节情志：肝主疏泄，其另一个主要功能就是调节情志。肝主疏泄，其主要功能之一就是调节情志，使情志能够正常地舒畅地表现。情志是人体内对于外界刺激的主观感受，是人体内对于外界刺激的一种主观体验。情志的舒畅与否，直接关系到人体内对于外界刺激的主观感受，从而影响到人体内生理功能的正常运行。因此，肝的疏泄功能对于调节情志，维持人体内生理功能的正常运行具有重要的意义。\n"
     ]
    }
   ],
   "source": [
    "make_inference(i, t)"
   ]
  },
  {
   "cell_type": "code",
   "execution_count": 65,
   "metadata": {},
   "outputs": [
    {
     "name": "stdout",
     "output_type": "stream",
     "text": [
      "请列举两个以上肝疏泄功能的具体表现，并简要解释。ing。肝的疏泄功能是指肝气的升降和舒畅。肝气的升降和舒畅，是肝气调畅的两个方面。肝气的升降和舒畅，是肝气调畅的基本规律。肝气的升降和舒畅，是肝气调畅的两个方面。肝气的升降和舒畅，是肝气调畅的基本规律。肝气的升降和舒畅，是肝气调畅的基本规律。肝气的升降和舒畅，是肝气调畅的基本规律。肝气的升降和舒畅，是肝气调畅的基本规律。肝气的升降和舒畅，是肝气调畅的基本规律。肝气的升降和舒畅，是肝气调畅的基本规律。肝气的升降和舒畅，是肝气调畅的基本规律。肝气的升降和舒畅，是肝气调畅的基本规律。肝气的升降和舒畅，是肝气调畅的基本规律。肝气的升降和舒畅，是肝气调畅的基本规律。肝气的升降和舒畅，是肝气调畅的基本规律。肝气的升降和舒畅，是肝气调畅的基本规律。肝气的升降和舒畅，是肝气调畅的基本规律。肝气的升降和舒畅，是肝气调畅的基本规律。肝气的升降和舒畅，是肝气调畅的基本规律。肝气的升降和舒畅，是肝气调畅的基本规律。肝气的升降和舒畅，是肝气调畅的基本规律。肝气的升降和舒畅，是肝气调畅的基本规律。肝气的升降和舒畅，是肝气调畅的基本规律。肝气的升降和舒畅，是肝气调畅的基本规律。肝气的升降和舒畅，是肝气调畅的基本规律。肝气的升降和舒畅，是肝气调畅的基本规律。肝气的升降和舒畅，是肝气调畅的基本规律。肝气的升降和舒畅，是肝气调畅的基本规律。肝气的升降和舒畅，是肝气调畅的基本规律。肝气的升降\n"
     ]
    }
   ],
   "source": [
    "make_inference(t)"
   ]
  },
  {
   "cell_type": "code",
   "execution_count": null,
   "metadata": {},
   "outputs": [],
   "source": [
    "# merge base model and lora model as a standalone model.\n",
    "# merged_model = model.merge_and_unload()"
   ]
  },
  {
   "cell_type": "code",
   "execution_count": null,
   "metadata": {},
   "outputs": [],
   "source": [
    "tokenizer(\"111111</s>\")"
   ]
  }
 ],
 "metadata": {
  "kernelspec": {
   "display_name": "base",
   "language": "python",
   "name": "python3"
  },
  "language_info": {
   "codemirror_mode": {
    "name": "ipython",
    "version": 3
   },
   "file_extension": ".py",
   "mimetype": "text/x-python",
   "name": "python",
   "nbconvert_exporter": "python",
   "pygments_lexer": "ipython3",
   "version": "3.11.5"
  },
  "orig_nbformat": 4
 },
 "nbformat": 4,
 "nbformat_minor": 2
}
