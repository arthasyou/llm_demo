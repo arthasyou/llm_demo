{
 "cells": [
  {
   "cell_type": "code",
   "execution_count": 45,
   "metadata": {},
   "outputs": [],
   "source": [
    "from peft import PeftModel, PeftConfig\n",
    "from transformers import AutoTokenizer, AutoModelForCausalLM\n",
    "import torch"
   ]
  },
  {
   "cell_type": "code",
   "execution_count": 46,
   "metadata": {},
   "outputs": [],
   "source": [
    "import os\n",
    "os.environ[\"CUDA_VISIBLE_DEVICES\"]=\"0\""
   ]
  },
  {
   "cell_type": "code",
   "execution_count": 47,
   "metadata": {},
   "outputs": [],
   "source": [
    "peft_model_id = \"/home/ysx/src/AI/llm_demo/outputs/checkpoint-1000\"\n",
    "config = PeftConfig.from_pretrained(peft_model_id)\n"
   ]
  },
  {
   "cell_type": "code",
   "execution_count": 48,
   "metadata": {},
   "outputs": [
    {
     "name": "stderr",
     "output_type": "stream",
     "text": [
      "Loading checkpoint shards: 100%|██████████| 2/2 [00:18<00:00,  9.15s/it]\n"
     ]
    }
   ],
   "source": [
    "\n",
    "inference_model = AutoModelForCausalLM.from_pretrained(\n",
    "    config.base_model_name_or_path,\n",
    "    load_in_4bit=True, \n",
    "    device_map=\"auto\",\n",
    ")"
   ]
  },
  {
   "cell_type": "code",
   "execution_count": 49,
   "metadata": {},
   "outputs": [],
   "source": [
    "tokenizer = AutoTokenizer.from_pretrained(\n",
    "    config.base_model_name_or_path,\n",
    ")"
   ]
  },
  {
   "cell_type": "code",
   "execution_count": 50,
   "metadata": {},
   "outputs": [],
   "source": [
    "model = PeftModel.from_pretrained(inference_model, peft_model_id, device_map=\"auto\")"
   ]
  },
  {
   "cell_type": "code",
   "execution_count": 51,
   "metadata": {},
   "outputs": [],
   "source": [
    "model = inference_model"
   ]
  },
  {
   "cell_type": "code",
   "execution_count": 52,
   "metadata": {},
   "outputs": [],
   "source": [
    "model = model.eval()"
   ]
  },
  {
   "cell_type": "code",
   "execution_count": 53,
   "metadata": {},
   "outputs": [],
   "source": [
    "def generate_prompt(instruction, input):\n",
    "    return (\n",
    "        \"Below is an instruction that describes a task, paired with an input that provides further context. \"\n",
    "        \"Write a response that appropriately completes the request.\\n\\n\"\n",
    "        f\"### Instruction:\\n{instruction}\\n\\n### Input:\\n{input}\\n\\n### Response:\\n\"\n",
    "    )\n",
    "   "
   ]
  },
  {
   "cell_type": "code",
   "execution_count": 54,
   "metadata": {},
   "outputs": [],
   "source": [
    "def make_inference(instruction, input):\n",
    "  question = generate_prompt(instruction, input)\n",
    "  batch = tokenizer(question, return_tensors='pt')\n",
    "\n",
    "  with torch.cuda.amp.autocast():\n",
    "    output_tokens = model.generate(**batch, max_new_tokens=200)\n",
    "\n",
    "  print(tokenizer.decode(output_tokens[0], skip_special_tokens=True))"
   ]
  },
  {
   "cell_type": "code",
   "execution_count": 55,
   "metadata": {},
   "outputs": [],
   "source": [
    "i = \"定义五行的生克制化规律。\""
   ]
  },
  {
   "cell_type": "code",
   "execution_count": 56,
   "metadata": {},
   "outputs": [],
   "source": [
    "t = \"五行的生克制化规律是五行结构系统在正常情况下的自动调节机制。五行之间通过相生相克的关系，维持事物的平衡和发展。相生是指五行之间互相滋生和促进的关系，如木生火、火生土等。相克是指五行之间相互制约的关系，如木克土、土克水等。制化关系是生克关系的结合，生中有克、克中有生，相反相成，维持和促进事物相对平衡协调和发展变化。\""
   ]
  },
  {
   "cell_type": "code",
   "execution_count": 57,
   "metadata": {},
   "outputs": [
    {
     "name": "stdout",
     "output_type": "stream",
     "text": [
      "Below is an instruction that describes a task, paired with an input that provides further context. Write a response that appropriately completes the request.\n",
      "\n",
      "### Instruction:\n",
      "定义五行的生克制化规律。\n",
      "\n",
      "### Input:\n",
      "五行的生克制化规律是五行结构系统在正常情况下的自动调节机制。五行之间通过相生相克的关系，维持事物的平衡和发展。相生是指五行之间互相滋生和促进的关系，如木生火、火生土等。相克是指五行之间相互制约的关系，如木克土、土克水等。制化关系是生克关系的结合，生中有克、克中有生，相反相成，维持和促进事物相对平衡协调和发展变化。\n",
      "\n",
      "### Response:\n",
      "五行的生克制化规律是指五行相生和相克的动态平衡，其中相生规律体现为五行之间的相互滋养和促进，相克规律体现为五行之间的相互制约和克制，制化规律则是生克结合的复杂关系，确保事物的平衡发展。衣、食、住、动、思这五脏之间也遵循这种规律，维持人体的健康平衡。衣指各种服饰；食指各种食物；住指各种居住条件；动指各种活动；思指各种思考和判断。衣食虽不及药物纯，但能补养五脏；居住不同环境，动诸不同事；思考判断，以取决于情志。衣食住动思，五脏之木火土金水矿，以之生克乘侮，以之成之。\n"
     ]
    }
   ],
   "source": [
    "make_inference(i, t)"
   ]
  },
  {
   "cell_type": "code",
   "execution_count": 58,
   "metadata": {},
   "outputs": [],
   "source": [
    "# merge base model and lora model as a standalone model.\n",
    "# merged_model = model.merge_and_unload()"
   ]
  },
  {
   "cell_type": "code",
   "execution_count": null,
   "metadata": {},
   "outputs": [],
   "source": []
  }
 ],
 "metadata": {
  "kernelspec": {
   "display_name": "base",
   "language": "python",
   "name": "python3"
  },
  "language_info": {
   "codemirror_mode": {
    "name": "ipython",
    "version": 3
   },
   "file_extension": ".py",
   "mimetype": "text/x-python",
   "name": "python",
   "nbconvert_exporter": "python",
   "pygments_lexer": "ipython3",
   "version": "3.11.4"
  },
  "orig_nbformat": 4
 },
 "nbformat": 4,
 "nbformat_minor": 2
}
