{
 "cells": [
  {
   "cell_type": "code",
   "execution_count": 11,
   "metadata": {},
   "outputs": [],
   "source": [
    "from peft import PeftModel, PeftConfig\n",
    "from transformers import AutoTokenizer, AutoModelForCausalLM\n",
    "import torch"
   ]
  },
  {
   "cell_type": "code",
   "execution_count": 3,
   "metadata": {},
   "outputs": [
    {
     "name": "stderr",
     "output_type": "stream",
     "text": [
      "Loading checkpoint shards: 100%|██████████| 2/2 [00:11<00:00,  5.95s/it]\n"
     ]
    }
   ],
   "source": [
    "peft_model_id = \"/Users/you/src/llm_demo/outputs/checkpoint-300\"\n",
    "config = PeftConfig.from_pretrained(peft_model_id)\n",
    "inference_model = AutoModelForCausalLM.from_pretrained(\n",
    "    config.base_model_name_or_path,\n",
    "    device_map=\"mps\",\n",
    ")\n"
   ]
  },
  {
   "cell_type": "code",
   "execution_count": null,
   "metadata": {},
   "outputs": [],
   "source": [
    "model = AutoModelForCausalLM.from_pretrained(\n",
    "    \"/Users/you/src/llm_demo/outputs/zy_base\",\n",
    "    device_map=\"mps\",\n",
    ")"
   ]
  },
  {
   "cell_type": "code",
   "execution_count": 4,
   "metadata": {},
   "outputs": [],
   "source": [
    "tokenizer = AutoTokenizer.from_pretrained(\n",
    "    config.base_model_name_or_path,\n",
    ")"
   ]
  },
  {
   "cell_type": "code",
   "execution_count": 5,
   "metadata": {},
   "outputs": [],
   "source": [
    "model = PeftModel.from_pretrained(inference_model, peft_model_id, device_map=\"mps\")"
   ]
  },
  {
   "cell_type": "code",
   "execution_count": 6,
   "metadata": {},
   "outputs": [],
   "source": [
    "model = model.eval()"
   ]
  },
  {
   "cell_type": "code",
   "execution_count": 18,
   "metadata": {},
   "outputs": [],
   "source": [
    "def make_inference(question):\n",
    "    batch = tokenizer(question, return_tensors='pt').to('mps')\n",
    "    output_tokens = model.generate(**batch, max_new_tokens=100)\n",
    "    print(tokenizer.decode(output_tokens[0], skip_special_tokens=True))\n",
    "  "
   ]
  },
  {
   "cell_type": "code",
   "execution_count": 19,
   "metadata": {},
   "outputs": [
    {
     "name": "stdout",
     "output_type": "stream",
     "text": [
      "五脏病机?，系五脏之病，病本在肺，但五脏同病，故有肝风、脾痰、肾寒、心火、燥屎等变。五脏之病，可分实证与虚证。实证为实证，虚证为虚证。实证有寒热之分，虚证有阴虚阳虚之别。临床上，根据脏腑病机的分析，可以推断脏腑虚实及其程度，有指导脏腑虚实治疗意义。如，其病多从其寒热入手。若之脉，先取以确定治疗原则。治疗时，先取其虚则补之，其实则汗之或吐之。总之，必须顾其虚而治其实，实则治之，实兼虚，亦须虚实兼治。                      \n"
     ]
    }
   ],
   "source": [
    "make_inference('五脏病机?')"
   ]
  },
  {
   "cell_type": "code",
   "execution_count": 9,
   "metadata": {},
   "outputs": [],
   "source": [
    "# merge base model and lora model as a standalone model.\n",
    "# merged_model = model.merge_and_unload()"
   ]
  }
 ],
 "metadata": {
  "kernelspec": {
   "display_name": "base",
   "language": "python",
   "name": "python3"
  },
  "language_info": {
   "codemirror_mode": {
    "name": "ipython",
    "version": 3
   },
   "file_extension": ".py",
   "mimetype": "text/x-python",
   "name": "python",
   "nbconvert_exporter": "python",
   "pygments_lexer": "ipython3",
   "version": "3.11.4"
  },
  "orig_nbformat": 4
 },
 "nbformat": 4,
 "nbformat_minor": 2
}
