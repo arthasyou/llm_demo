{
 "cells": [
  {
   "cell_type": "code",
   "execution_count": 1,
   "metadata": {},
   "outputs": [
    {
     "name": "stderr",
     "output_type": "stream",
     "text": [
      "/home/ysx/miniconda3/lib/python3.11/site-packages/tqdm/auto.py:21: TqdmWarning: IProgress not found. Please update jupyter and ipywidgets. See https://ipywidgets.readthedocs.io/en/stable/user_install.html\n",
      "  from .autonotebook import tqdm as notebook_tqdm\n"
     ]
    }
   ],
   "source": [
    "from peft import PeftModel, PeftConfig\n",
    "from transformers import AutoTokenizer, AutoModelForCausalLM"
   ]
  },
  {
   "cell_type": "code",
   "execution_count": 2,
   "metadata": {},
   "outputs": [],
   "source": [
    "import os\n",
    "os.environ[\"CUDA_VISIBLE_DEVICES\"]=\"0\""
   ]
  },
  {
   "cell_type": "code",
   "execution_count": 3,
   "metadata": {},
   "outputs": [
    {
     "name": "stderr",
     "output_type": "stream",
     "text": [
      "Loading checkpoint shards: 100%|██████████| 8/8 [00:13<00:00,  1.66s/it]\n"
     ]
    }
   ],
   "source": [
    "peft_model_id = \"/home/ysx/src/AI/llm_demo/outputs/checkpoint-500\"\n",
    "config = PeftConfig.from_pretrained(peft_model_id)\n",
    "inference_model = AutoModelForCausalLM.from_pretrained(\n",
    "    config.base_model_name_or_path,\n",
    "    load_in_4bit=True, \n",
    "    device_map=\"auto\",\n",
    "    trust_remote_code=True\n",
    ")\n"
   ]
  },
  {
   "cell_type": "code",
   "execution_count": 4,
   "metadata": {},
   "outputs": [],
   "source": [
    "tokenizer = AutoTokenizer.from_pretrained(\n",
    "    config.base_model_name_or_path,\n",
    "    trust_remote_code=True\n",
    ")"
   ]
  },
  {
   "cell_type": "code",
   "execution_count": 5,
   "metadata": {},
   "outputs": [],
   "source": [
    "model = PeftModel.from_pretrained(inference_model, peft_model_id, device_map=\"auto\")"
   ]
  },
  {
   "cell_type": "code",
   "execution_count": 6,
   "metadata": {},
   "outputs": [],
   "source": [
    "model = model.eval()"
   ]
  },
  {
   "cell_type": "code",
   "execution_count": 7,
   "metadata": {},
   "outputs": [],
   "source": [
    "from IPython.display import display, Markdown\n",
    "\n",
    "def make_inference(question):\n",
    "    promt = f\"### QUESTION\\n{question}\\n\\n### ANSWER\\n\"\n",
    "    response, history = model.chat(tokenizer, promt, history=[])\n",
    "    return response, history\n",
    "    # display(Markdown(response))"
   ]
  },
  {
   "cell_type": "code",
   "execution_count": 8,
   "metadata": {},
   "outputs": [
    {
     "name": "stderr",
     "output_type": "stream",
     "text": [
      "/home/ysx/miniconda3/lib/python3.11/site-packages/bitsandbytes/nn/modules.py:224: UserWarning: Input type into Linear4bit is torch.float16, but bnb_4bit_compute_type=torch.float32 (default). This will lead to slow inference or training speed.\n",
      "  warnings.warn(f'Input type into Linear4bit is torch.float16, but bnb_4bit_compute_type=torch.float32 (default). This will lead to slow inference or training speed.')\n"
     ]
    },
    {
     "data": {
      "text/plain": [
       "'痞满是慢性萎缩性胃炎的主要临床症状之一，也可称为胃痞。常伴有胃脘痞满，反流，口苦，为痰热互结，胃气逆阻为患；若病发于脾胃气虚，病发于痰热互结，胃气逆阻之痰热互结，为痰热互结之胃气逆阻。若病发于脾胃气虚，病发于痰热互结，胃气逆阻之痰热互结，为痰热互结之胃气逆阻。若病发于脾胃气虚，病发于痰热互结，胃气逆阻之痰热互结，为痰热互结之胃气逆阻。若病发于脾胃气虚，病发于痰热互结，胃气逆阻之痰热互结，为痰热互结之胃气逆阻。若病发于脾胃气虚，病发于痰热互结，胃气逆阻之痰热互结，为痰热互结之胃气逆阻。若病发于脾胃气虚，病发于痰热互结，胃气逆阻之痰热互结，为痰热互结之胃气逆阻。若病发于脾胃气虚，病发于痰热互结，胃气逆阻之痰热互结，为痰热互结之胃气逆阻。若病发于脾胃气虚，病发于痰热互结，胃气逆阻之痰热互结，为痰热互结之胃气逆阻。若病发于脾胃气虚，病发于痰热互结，胃气逆阻之痰热互结，为痰热互结之胃气逆阻。若病发于脾胃气虚，病发于痰热互结，胃气逆阻之痰热互结，为痰热互结之胃气逆阻。若病发于脾胃气虚，病发于痰热互结，胃气逆阻之痰热互结，为痰热互结之胃气逆阻。若病发于脾胃气虚，病发于痰热互结，胃气逆阻之痰热互结，为痰热互结之胃气逆阻。若病发于脾胃气虚，病发于痰热互结，胃气逆阻之痰热互结，为痰热互结之胃气逆阻。若病发于脾胃气虚，病发于痰热互结，胃气逆阻之痰热互结，为痰热互结之胃气逆阻。若病发于脾胃气虚，病发于痰热互结，胃气逆阻之痰热互结，为痰热互结之胃气逆阻。若病发于脾胃气虚，病发于痰热互结，胃气逆阻之痰热互结，为痰热互结之胃气逆阻。若病发于脾胃气虚，病发于痰热互结，胃气逆阻之痰热互结，为痰热互结之胃气逆阻。若病发于脾胃气虚，病发于痰热互结，胃气逆阻之痰热互结，为痰热互结之胃气逆阻。若病发于脾胃气虚，病发于痰热互结，胃气逆阻之痰热互结，为痰热互结之胃气逆阻。若病发于脾胃气虚，病发于痰热互结，胃气逆阻之痰热互结，为痰热互结之胃气逆阻。若病发于脾胃气虚，病发于痰热互结，胃气逆阻之痰热互结，为痰热互结之胃气逆阻。若病发于脾胃气虚，病发于痰热互结，胃气逆阻之痰热互结，为痰热互结之胃气逆阻。若病发于脾胃气虚，病发于痰热互结，胃气逆阻之痰热互结，为痰热互结之胃气逆阻。若病发于脾胃气虚，病发于痰热互结，胃气逆阻之痰热互结，为痰热互结之胃气逆阻。若病发于脾胃气虚，病发于痰热互结，胃气逆阻之痰热互结，为痰热互结之胃气逆阻。若病发于脾胃气虚，病发于痰热互结，胃气逆阻之痰热互结，为痰热互结之胃气逆阻。若病发于脾胃气虚，病发于痰热互结，胃气逆'"
      ]
     },
     "execution_count": 8,
     "metadata": {},
     "output_type": "execute_result"
    }
   ],
   "source": [
    "response, history = make_inference(\"痞满是什么疾病的临床症状\")\n",
    "response"
   ]
  },
  {
   "cell_type": "code",
   "execution_count": 9,
   "metadata": {},
   "outputs": [
    {
     "data": {
      "text/markdown": [
       "痞满是慢性萎缩性胃炎的主要临床症状之一，也可称为胃痞。常伴有胃脘痞满，反流，口苦，为痰热互结，胃气逆阻为患；若病发于脾胃气虚，病发于痰热互结，胃气逆阻之痰热互结，为痰热互结之胃气逆阻。若病发于脾胃气虚，病发于痰热互结，胃气逆阻之痰热互结，为痰热互结之胃气逆阻。若病发于脾胃气虚，病发于痰热互结，胃气逆阻之痰热互结，为痰热互结之胃气逆阻。若病发于脾胃气虚，病发于痰热互结，胃气逆阻之痰热互结，为痰热互结之胃气逆阻。若病发于脾胃气虚，病发于痰热互结，胃气逆阻之痰热互结，为痰热互结之胃气逆阻。若病发于脾胃气虚，病发于痰热互结，胃气逆阻之痰热互结，为痰热互结之胃气逆阻。若病发于脾胃气虚，病发于痰热互结，胃气逆阻之痰热互结，为痰热互结之胃气逆阻。若病发于脾胃气虚，病发于痰热互结，胃气逆阻之痰热互结，为痰热互结之胃气逆阻。若病发于脾胃气虚，病发于痰热互结，胃气逆阻之痰热互结，为痰热互结之胃气逆阻。若病发于脾胃气虚，病发于痰热互结，胃气逆阻之痰热互结，为痰热互结之胃气逆阻。若病发于脾胃气虚，病发于痰热互结，胃气逆阻之痰热互结，为痰热互结之胃气逆阻。若病发于脾胃气虚，病发于痰热互结，胃气逆阻之痰热互结，为痰热互结之胃气逆阻。若病发于脾胃气虚，病发于痰热互结，胃气逆阻之痰热互结，为痰热互结之胃气逆阻。若病发于脾胃气虚，病发于痰热互结，胃气逆阻之痰热互结，为痰热互结之胃气逆阻。若病发于脾胃气虚，病发于痰热互结，胃气逆阻之痰热互结，为痰热互结之胃气逆阻。若病发于脾胃气虚，病发于痰热互结，胃气逆阻之痰热互结，为痰热互结之胃气逆阻。若病发于脾胃气虚，病发于痰热互结，胃气逆阻之痰热互结，为痰热互结之胃气逆阻。若病发于脾胃气虚，病发于痰热互结，胃气逆阻之痰热互结，为痰热互结之胃气逆阻。若病发于脾胃气虚，病发于痰热互结，胃气逆阻之痰热互结，为痰热互结之胃气逆阻。若病发于脾胃气虚，病发于痰热互结，胃气逆阻之痰热互结，为痰热互结之胃气逆阻。若病发于脾胃气虚，病发于痰热互结，胃气逆阻之痰热互结，为痰热互结之胃气逆阻。若病发于脾胃气虚，病发于痰热互结，胃气逆阻之痰热互结，为痰热互结之胃气逆阻。若病发于脾胃气虚，病发于痰热互结，胃气逆阻之痰热互结，为痰热互结之胃气逆阻。若病发于脾胃气虚，病发于痰热互结，胃气逆阻之痰热互结，为痰热互结之胃气逆阻。若病发于脾胃气虚，病发于痰热互结，胃气逆阻之痰热互结，为痰热互结之胃气逆阻。若病发于脾胃气虚，病发于痰热互结，胃气逆阻之痰热互结，为痰热互结之胃气逆阻。若病发于脾胃气虚，病发于痰热互结，胃气逆"
      ],
      "text/plain": [
       "<IPython.core.display.Markdown object>"
      ]
     },
     "metadata": {},
     "output_type": "display_data"
    }
   ],
   "source": [
    "display(Markdown(response))"
   ]
  },
  {
   "cell_type": "code",
   "execution_count": 10,
   "metadata": {},
   "outputs": [],
   "source": [
    "# merge base model and lora model as a standalone model.\n",
    "# merged_model = model.merge_and_unload()"
   ]
  }
 ],
 "metadata": {
  "kernelspec": {
   "display_name": "base",
   "language": "python",
   "name": "python3"
  },
  "language_info": {
   "codemirror_mode": {
    "name": "ipython",
    "version": 3
   },
   "file_extension": ".py",
   "mimetype": "text/x-python",
   "name": "python",
   "nbconvert_exporter": "python",
   "pygments_lexer": "ipython3",
   "version": "3.11.4"
  },
  "orig_nbformat": 4
 },
 "nbformat": 4,
 "nbformat_minor": 2
}
