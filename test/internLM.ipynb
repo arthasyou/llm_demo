{
 "cells": [
  {
   "cell_type": "code",
   "execution_count": 1,
   "metadata": {},
   "outputs": [
    {
     "name": "stderr",
     "output_type": "stream",
     "text": [
      "/home/ysx/miniconda3/lib/python3.11/site-packages/tqdm/auto.py:21: TqdmWarning: IProgress not found. Please update jupyter and ipywidgets. See https://ipywidgets.readthedocs.io/en/stable/user_install.html\n",
      "  from .autonotebook import tqdm as notebook_tqdm\n"
     ]
    }
   ],
   "source": [
    "from transformers import AutoTokenizer, AutoModelForCausalLM\n",
    "import os\n",
    "os.environ[\"CUDA_VISIBLE_DEVICES\"]=\"0\""
   ]
  },
  {
   "cell_type": "code",
   "execution_count": 2,
   "metadata": {},
   "outputs": [],
   "source": [
    "tokenizer = AutoTokenizer.from_pretrained(\n",
    "    \"/home/ysx/models/internlm-chat-7b\",\n",
    "    trust_remote_code=True\n",
    ")"
   ]
  },
  {
   "cell_type": "code",
   "execution_count": 3,
   "metadata": {},
   "outputs": [
    {
     "name": "stderr",
     "output_type": "stream",
     "text": [
      "Loading checkpoint shards: 100%|██████████| 8/8 [00:24<00:00,  3.11s/it]\n"
     ]
    }
   ],
   "source": [
    "model = AutoModelForCausalLM.from_pretrained(\n",
    "    \"/home/ysx/models/internlm-chat-7b\",\n",
    "    load_in_4bit=True,\n",
    "    device_map=\"auto\",\n",
    "    trust_remote_code=True\n",
    ")"
   ]
  },
  {
   "cell_type": "code",
   "execution_count": 4,
   "metadata": {},
   "outputs": [],
   "source": [
    "model = model.eval()\n"
   ]
  },
  {
   "cell_type": "code",
   "execution_count": 5,
   "metadata": {},
   "outputs": [
    {
     "data": {
      "text/plain": [
       "InternLMForCausalLM(\n",
       "  (model): InternLMModel(\n",
       "    (embed_tokens): Embedding(103168, 5120, padding_idx=0)\n",
       "    (layers): ModuleList(\n",
       "      (0-59): 60 x InternLMDecoderLayer(\n",
       "        (self_attn): InternLMAttention(\n",
       "          (q_proj): Linear4bit(in_features=5120, out_features=5120, bias=False)\n",
       "          (k_proj): Linear4bit(in_features=5120, out_features=5120, bias=False)\n",
       "          (v_proj): Linear4bit(in_features=5120, out_features=5120, bias=False)\n",
       "          (o_proj): Linear4bit(in_features=5120, out_features=5120, bias=False)\n",
       "          (rotary_emb): InternLMRotaryEmbedding()\n",
       "        )\n",
       "        (mlp): InternLMMLP(\n",
       "          (gate_proj): Linear4bit(in_features=5120, out_features=13824, bias=False)\n",
       "          (down_proj): Linear4bit(in_features=13824, out_features=5120, bias=False)\n",
       "          (up_proj): Linear4bit(in_features=5120, out_features=13824, bias=False)\n",
       "          (act_fn): SiLUActivation()\n",
       "        )\n",
       "        (input_layernorm): InternLMRMSNorm()\n",
       "        (post_attention_layernorm): InternLMRMSNorm()\n",
       "      )\n",
       "    )\n",
       "    (norm): InternLMRMSNorm()\n",
       "  )\n",
       "  (lm_head): Linear(in_features=5120, out_features=103168, bias=False)\n",
       ")"
      ]
     },
     "execution_count": 5,
     "metadata": {},
     "output_type": "execute_result"
    }
   ],
   "source": [
    "model"
   ]
  },
  {
   "cell_type": "code",
   "execution_count": 6,
   "metadata": {},
   "outputs": [
    {
     "data": {
      "text/plain": [
       "InternLMTokenizer(name_or_path='internlm/internlm-chat-20b', vocab_size=103168, model_max_length=1000000000000000019884624838656, is_fast=False, padding_side='right', truncation_side='right', special_tokens={'bos_token': '<s>', 'eos_token': '</s>', 'unk_token': '<unk>', 'pad_token': '</s>'}, clean_up_tokenization_spaces=False)"
      ]
     },
     "execution_count": 6,
     "metadata": {},
     "output_type": "execute_result"
    }
   ],
   "source": [
    "tokenizer"
   ]
  },
  {
   "cell_type": "code",
   "execution_count": 14,
   "metadata": {},
   "outputs": [],
   "source": [
    "text = \"我需要你帮忙生成一份房屋租赁合同,用来测试一下人工智能的能力。这份合同的名称就叫“房屋租赁合同”,编号设为400006459726,版本号写2.0版。出租方是我和我女朋友,我叫赵晓亮,身份证号是210213198705280515。我女朋友叫罗方红,身份证号是510525198908108443。承租方是我一个朋友,叫李游,身份证号510123199503084316。\\n租期是从今年6月1号到明年5月31号,也就是租一年,一个月租金定为5000块钱。押金定为5000块。违约的话就要赔钱给对方。合同正文分10个条款,后面加两个附录。记得合同要我和我女朋友,以及租客都要签名并写上日期。这个合同就包含日常租房需要的所有条款就可以了,千万不能漏掉什么重要的。\""
   ]
  },
  {
   "cell_type": "code",
   "execution_count": 19,
   "metadata": {},
   "outputs": [],
   "source": [
    "text = \"样本A:乙方有权在新作游戏开发后的角色设定美术设定、玩法设定、Demo产出、游戏上线等多个时间节点对研发内容进行审核，甲方应主动在相关时间点以邮件方式通知乙方参与版本审核，并在邮件中通知相关的审核流程。请将样本A中的“新作游戏开发后的角色设定美术设定、玩法设定、Demo产出、游戏上线等多个时间节点”修改为“新作游戏开发过程中在角色设定、美术设定、玩法设定、Demo产出、游戏上线等多个时间节点”。\\n请将样本A中的“甲方应主动在相关时间点以邮件方式通知乙方参与版本审核”修改为“甲方应提前在相关时间点以邮件方式通知乙方参与版本审核”。请在样本A中增加以下内容：“若甲乙双方均为在约定时间履行告知义务,所出现的损失由各方承担”。\""
   ]
  },
  {
   "cell_type": "code",
   "execution_count": 20,
   "metadata": {},
   "outputs": [
    {
     "name": "stdout",
     "output_type": "stream",
     "text": [
      "样本A:乙方有权在新作游戏开发过程中在角色设定、美术设定、玩法设定、Demo产出、游戏上线等多个时间节点对研发内容进行审核，甲方应提前在相关时间点以邮件方式通知乙方参与版本审核，并在邮件中通知相关的审核流程。请将样本A中的“新作游戏开发后的角色设定美术设定、玩法设定、Demo产出、游戏上线等多个时间节点”修改为“新作游戏开发过程中在角色设定、美术设定、玩法设定、Demo产出、游戏上线等多个时间节点”。请在样本A中增加以下内容：“若甲乙双方均为在约定时间履行告知义务,所出现的损失由各方承担”。\n"
     ]
    }
   ],
   "source": [
    "response, history = model.chat(tokenizer, text, history=[])\n",
    "print(response)\n"
   ]
  },
  {
   "cell_type": "code",
   "execution_count": 5,
   "metadata": {},
   "outputs": [
    {
     "name": "stdout",
     "output_type": "stream",
     "text": [
      "脏腑病机是中医学理论体系中一个重要的概念，它主要涉及到人体五脏六腑的生理功能和病理变化。脏腑病机主要包括了脏腑功能失调、气血津液运行失常、气机郁滞等，这些因素相互作用，导致了脏腑的病理变化。中医学认为，脏腑病机是中医诊断和治疗疾病的重要依据，通过辨证论治，可以有效地调整脏腑功能，促进人体健康。\n"
     ]
    }
   ],
   "source": [
    "response, history = model.chat(tokenizer, \"脏腑病机是什么\", history=[])\n",
    "print(response)"
   ]
  }
 ],
 "metadata": {
  "kernelspec": {
   "display_name": "base",
   "language": "python",
   "name": "python3"
  },
  "language_info": {
   "codemirror_mode": {
    "name": "ipython",
    "version": 3
   },
   "file_extension": ".py",
   "mimetype": "text/x-python",
   "name": "python",
   "nbconvert_exporter": "python",
   "pygments_lexer": "ipython3",
   "version": "3.11.4"
  },
  "orig_nbformat": 4
 },
 "nbformat": 4,
 "nbformat_minor": 2
}
