{
 "cells": [
  {
   "cell_type": "code",
   "execution_count": 1,
   "metadata": {},
   "outputs": [
    {
     "name": "stderr",
     "output_type": "stream",
     "text": [
      "/home/ysx/miniconda3/envs/llama/lib/python3.11/site-packages/tqdm/auto.py:21: TqdmWarning: IProgress not found. Please update jupyter and ipywidgets. See https://ipywidgets.readthedocs.io/en/stable/user_install.html\n",
      "  from .autonotebook import tqdm as notebook_tqdm\n"
     ]
    }
   ],
   "source": [
    "from transformers import AutoTokenizer, AutoModelForCausalLM\n",
    "import os\n",
    "from peft import PeftModel, PeftConfig\n",
    "os.environ[\"CUDA_VISIBLE_DEVICES\"]=\"0\""
   ]
  },
  {
   "cell_type": "code",
   "execution_count": 2,
   "metadata": {},
   "outputs": [],
   "source": [
    "peft_model_id = \"/home/ysx/src/AI/llm_demo/outputs/checkpoint-1000\"\n",
    "config = PeftConfig.from_pretrained(peft_model_id)\n"
   ]
  },
  {
   "cell_type": "code",
   "execution_count": 3,
   "metadata": {},
   "outputs": [
    {
     "name": "stderr",
     "output_type": "stream",
     "text": [
      "Loading checkpoint shards: 100%|██████████| 8/8 [00:25<00:00,  3.20s/it]\n"
     ]
    }
   ],
   "source": [
    "inference_model = AutoModelForCausalLM.from_pretrained(\n",
    "    config.base_model_name_or_path,\n",
    "    load_in_4bit=True,\n",
    "    device_map=\"auto\",\n",
    "    trust_remote_code=True\n",
    ")"
   ]
  },
  {
   "cell_type": "code",
   "execution_count": 4,
   "metadata": {},
   "outputs": [],
   "source": [
    "tokenizer = AutoTokenizer.from_pretrained(\n",
    "    config.base_model_name_or_path,\n",
    "    trust_remote_code=True\n",
    ")"
   ]
  },
  {
   "cell_type": "code",
   "execution_count": 5,
   "metadata": {},
   "outputs": [],
   "source": [
    "model = PeftModel.from_pretrained(inference_model, peft_model_id, device_map=\"auto\")"
   ]
  },
  {
   "cell_type": "code",
   "execution_count": 2,
   "metadata": {},
   "outputs": [],
   "source": [
    "# tokenizer = AutoTokenizer.from_pretrained(\n",
    "#     \"/home/ysx/models/internlm-chat-7b\",\n",
    "#     trust_remote_code=True\n",
    "# )"
   ]
  },
  {
   "cell_type": "code",
   "execution_count": 3,
   "metadata": {},
   "outputs": [
    {
     "name": "stderr",
     "output_type": "stream",
     "text": [
      "Loading checkpoint shards: 100%|██████████| 8/8 [00:24<00:00,  3.11s/it]\n"
     ]
    }
   ],
   "source": [
    "# model = AutoModelForCausalLM.from_pretrained(\n",
    "#     \"/home/ysx/models/internlm-chat-7b\",\n",
    "#     load_in_4bit=True,\n",
    "#     device_map=\"auto\",\n",
    "#     trust_remote_code=True\n",
    "# )"
   ]
  },
  {
   "cell_type": "code",
   "execution_count": 6,
   "metadata": {},
   "outputs": [],
   "source": [
    "model = model.eval()\n"
   ]
  },
  {
   "cell_type": "code",
   "execution_count": 9,
   "metadata": {},
   "outputs": [],
   "source": [
    "def generate_prompt(instruction, input):\n",
    "    return (\n",
    "        \"Below is an instruction that describes a task, paired with an input that provides further context. \"\n",
    "        \"Write a response that appropriately completes the request.\\n\\n\"\n",
    "        f\"### instruction:\\n{instruction}\\n\\n### input:\\n{input}\\n\\n### responds:\\n\"\n",
    "    )"
   ]
  },
  {
   "cell_type": "code",
   "execution_count": 10,
   "metadata": {},
   "outputs": [],
   "source": [
    "text = generate_prompt(\"请回答下面问题\", \"五行是什么\")"
   ]
  },
  {
   "cell_type": "code",
   "execution_count": 15,
   "metadata": {},
   "outputs": [],
   "source": [
    "text = \"阴阳五行理论的核心是什么？\""
   ]
  },
  {
   "cell_type": "code",
   "execution_count": 16,
   "metadata": {},
   "outputs": [
    {
     "name": "stdout",
     "output_type": "stream",
     "text": [
      "阴阳五行理论的核心是五行和阴阳的相互关系。五行，即木、火、土、金、水，是宇宙万物的构成要素，阴阳是万物的基本属性。五行之间，木生火，火生土，土生金，金生水，水生木，木生土生金，土生金生水，水生木生火，火生土生金，金生水生木，木生火生土，这是五行之间的生克关系。五行相生，即：木生火，火生土，土生金，金生水，水生木；五行相克，即：木克土，土克水，水克火，火克金，金克木。五行之间，在自然界中，是相互作用，相生相克，相生即相互帮助，相克即相互制约。在人体内部，也是相互作用的。五行之间，在自然界中，是相互作用，相生相克，相生即相互帮助，相克即相互制约。在人体内部，也是相互作用的。五行之间，在人体内部，是相互作用的，在中医学中，用五行理论，来解释人体内部的生理和病理现象。人体内部的五行，即木、火、土、金、水。木主肝，火主心，土主脾，金主肺，水主肾。木火通于心，木火相生，木火相克，木火相克，木火相生。木火通于肝，木火相生，木火相克，木火相克，木火相生。木火通于肾，木火相生，木火相克，木火相克，木火相生。木火通于肝，木火相生，木火相克，木火相克，木火相生。木火通于心，木火相生，木火相克，木火相克，木火相生。木火通于肾，木火相生，木火相克，木火相克，木火相生。木火通于肝，木火相生，木火相克，木火相克，木火相生。木火通于心，木火相生，木火相克，木火相克，木火相生。木火通于肾，木火相生，木火相克，木火相克，木火相生。木火通于肝，木火相生，木火相克，木火相克，木火相生。木火通于心，木火相生，木火相克，木火相克，木火相生。木火通于肾，木火相生，木火相克，木火相克，木火相生。木火通于肝，木火相生，木火相克，木火相克，木火相生。木火通于心，木火相生，木火相克，木火相克，木火相生。木火通于肾，木火相生，木火相克，木火相克，木火相生。木火通于肝，木火相生，木火相克，木火相克，木火相生。木火通于心，木火相生，木火相克，木火相克，木火相生。木火通于肾，木火相生，木火相克，木火相克，木火相生。木火通于肝，木火相生，木火相克，木火相克，木火相生。木火通于心，木火相生，木火相克，木火相克，木火相生。木火通于肾，木火相生，木火相克，木火相克，木火相生。木火通于肝，木火相生，木火相克，木火相克，木火相生。木火通于心，木火相生，木火相克，木火相克，木火相生。木火通于肾，木火相生，木火相克，木火相克，木火相生。木火通于肝，木火相生，木火相克，木火相克，木火相生。木火通于心，木火相生，木火相克，木火相克，木火相生。木火通于肾，木火相生，木火相克，木火相克，木火相生。木火通于肝，木火相生，木火相克，木火相克，木火相生。木火通于\n"
     ]
    }
   ],
   "source": [
    "response, history = model.chat(tokenizer, text, history=[])\n",
    "print(response)\n"
   ]
  }
 ],
 "metadata": {
  "kernelspec": {
   "display_name": "base",
   "language": "python",
   "name": "python3"
  },
  "language_info": {
   "codemirror_mode": {
    "name": "ipython",
    "version": 3
   },
   "file_extension": ".py",
   "mimetype": "text/x-python",
   "name": "python",
   "nbconvert_exporter": "python",
   "pygments_lexer": "ipython3",
   "version": "3.11.5"
  },
  "orig_nbformat": 4
 },
 "nbformat": 4,
 "nbformat_minor": 2
}
