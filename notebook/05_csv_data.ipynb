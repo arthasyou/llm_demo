{
 "cells": [
  {
   "cell_type": "code",
   "execution_count": 46,
   "metadata": {},
   "outputs": [],
   "source": [
    "import pandas as pd\n",
    "from datasets import Dataset"
   ]
  },
  {
   "cell_type": "code",
   "execution_count": 47,
   "metadata": {},
   "outputs": [],
   "source": [
    "\n",
    "\n",
    "# 读取CSV文件并创建pandas DataFrame对象\n",
    "csv_file = \"../data/csv/xbzy.csv\"\n",
    "dataframe = pd.read_csv(csv_file)\n",
    "\n",
    "# 可选：设置数据集的列名称（如果CSV文件没有列名）\n",
    "# 如果你的CSV文件没有列名，你可以使用以下代码来设置列名称\n",
    "# column_names = [\"text\"]\n",
    "\n"
   ]
  },
  {
   "cell_type": "code",
   "execution_count": 48,
   "metadata": {},
   "outputs": [],
   "source": [
    "# 将pandas DataFrame转换为Hugging Face的Dataset对象\n",
    "dataset = Dataset.from_pandas(dataframe)"
   ]
  },
  {
   "cell_type": "code",
   "execution_count": 55,
   "metadata": {},
   "outputs": [
    {
     "name": "stderr",
     "output_type": "stream",
     "text": [
      "Filter: 100%|██████████| 802/802 [00:00<00:00, 82627.10 examples/s]\n"
     ]
    }
   ],
   "source": [
    "\n",
    "\n",
    "# 使用`filter`方法筛选非空白行\n",
    "dataset = dataset.filter(lambda example: example[\"text\"] is not None)\n",
    "\n"
   ]
  },
  {
   "cell_type": "code",
   "execution_count": 57,
   "metadata": {},
   "outputs": [
    {
     "name": "stderr",
     "output_type": "stream",
     "text": [
      "Saving the dataset (1/1 shards): 100%|██████████| 784/784 [00:00<00:00, 53364.72 examples/s]\n"
     ]
    }
   ],
   "source": [
    "# 保存为Hugging Face的datasets格式\n",
    "dataset.save_to_disk(\"../data/datasets/xbzy\")"
   ]
  }
 ],
 "metadata": {
  "kernelspec": {
   "display_name": "base",
   "language": "python",
   "name": "python3"
  },
  "language_info": {
   "codemirror_mode": {
    "name": "ipython",
    "version": 3
   },
   "file_extension": ".py",
   "mimetype": "text/x-python",
   "name": "python",
   "nbconvert_exporter": "python",
   "pygments_lexer": "ipython3",
   "version": "3.11.4"
  },
  "orig_nbformat": 4
 },
 "nbformat": 4,
 "nbformat_minor": 2
}
