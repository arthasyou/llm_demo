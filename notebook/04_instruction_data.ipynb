{
 "cells": [
  {
   "cell_type": "code",
   "execution_count": 45,
   "metadata": {},
   "outputs": [],
   "source": [
    "from datasets import Dataset\n",
    "from docx import Document\n",
    "import json\n",
    "import re\n"
   ]
  },
  {
   "cell_type": "code",
   "execution_count": 67,
   "metadata": {},
   "outputs": [],
   "source": [
    "# 读取docx文档\n",
    "def read_docx_file(file_path):\n",
    "    document = Document(file_path)\n",
    "    text = \"\"\n",
    "    for paragraph in document.paragraphs:\n",
    "        text += paragraph.text + \"\\n\"\n",
    "    return text\n",
    "\n",
    "# 从文本中提取json部分\n",
    "def extract_json(text):\n",
    "    # 使用正则表达式匹配有效的JSON部分\n",
    "    json_pattern = r'\\{.*?\\}'\n",
    "    matches = re.findall(json_pattern, text, re.DOTALL)\n",
    "    print(len(matches))\n",
    "    \n",
    "    if len(matches) > 0:\n",
    "        return matches\n",
    "    else:\n",
    "        return None\n",
    "    \n",
    "\n",
    "# 把字符串转换成json格式\n",
    "def list_to_json(list):\n",
    "    r = []\n",
    "    for t in list:\n",
    "        j = json.loads(t)\n",
    "        r.append(j)\n",
    "    return r\n",
    "\n"
   ]
  },
  {
   "cell_type": "code",
   "execution_count": 86,
   "metadata": {},
   "outputs": [
    {
     "name": "stdout",
     "output_type": "stream",
     "text": [
      "100\n"
     ]
    },
    {
     "data": {
      "application/vnd.jupyter.widget-view+json": {
       "model_id": "cbeadc88a5d549fc9bc08c53d1e05694",
       "version_major": 2,
       "version_minor": 0
      },
      "text/plain": [
       "Saving the dataset (0/1 shards):   0%|          | 0/100 [00:00<?, ? examples/s]"
      ]
     },
     "metadata": {},
     "output_type": "display_data"
    }
   ],
   "source": [
    "# 读取docx文档\n",
    "file_path = \"../data/docx/zysft.docx\"\n",
    "text = read_docx_file(file_path)\n",
    "\n",
    "# 提取json部分\n",
    "json_text = extract_json(text)\n",
    "\n",
    "# 转换成json list\n",
    "list = list_to_json(json_text)\n",
    "\n",
    "#转换成datasets\n",
    "dataset = Dataset.from_list(list)\n",
    "\n",
    "dataset = dataset.rename_column('instruct', 'instruction')\n",
    "\n",
    "\n",
    "#保存数据\n",
    "dataset.save_to_disk(\"../data/datasets/zysft\")"
   ]
  },
  {
   "cell_type": "code",
   "execution_count": 85,
   "metadata": {},
   "outputs": [
    {
     "data": {
      "text/plain": [
       "Dataset({\n",
       "    features: ['instruct', 'input', 'output'],\n",
       "    num_rows: 100\n",
       "})"
      ]
     },
     "execution_count": 85,
     "metadata": {},
     "output_type": "execute_result"
    }
   ],
   "source": [
    "\n"
   ]
  },
  {
   "cell_type": "code",
   "execution_count": null,
   "metadata": {},
   "outputs": [
    {
     "data": {
      "text/plain": [
       "dict"
      ]
     },
     "metadata": {},
     "output_type": "display_data"
    }
   ],
   "source": [
    "type(data[0])"
   ]
  },
  {
   "cell_type": "code",
   "execution_count": null,
   "metadata": {},
   "outputs": [],
   "source": []
  }
 ],
 "metadata": {
  "kernelspec": {
   "display_name": "base",
   "language": "python",
   "name": "python3"
  },
  "language_info": {
   "codemirror_mode": {
    "name": "ipython",
    "version": 3
   },
   "file_extension": ".py",
   "mimetype": "text/x-python",
   "name": "python",
   "nbconvert_exporter": "python",
   "pygments_lexer": "ipython3",
   "version": "3.11.4"
  },
  "orig_nbformat": 4
 },
 "nbformat": 4,
 "nbformat_minor": 2
}
