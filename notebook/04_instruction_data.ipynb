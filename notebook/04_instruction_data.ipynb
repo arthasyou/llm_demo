{
 "cells": [
  {
   "cell_type": "code",
   "execution_count": 13,
   "metadata": {},
   "outputs": [],
   "source": [
    "from datasets import Dataset, concatenate_datasets, load_from_disk\n",
    "from docx import Document\n",
    "import json\n",
    "import re\n"
   ]
  },
  {
   "cell_type": "code",
   "execution_count": 14,
   "metadata": {},
   "outputs": [],
   "source": [
    "# 读取docx文档\n",
    "def read_docx_file(file_path):\n",
    "    document = Document(file_path)\n",
    "    text = \"\"\n",
    "    for paragraph in document.paragraphs:\n",
    "        text += paragraph.text + \"\\n\"\n",
    "    return text\n",
    "\n",
    "# 从文本中提取json部分\n",
    "def extract_json(text):\n",
    "    # 使用正则表达式匹配有效的JSON部分\n",
    "    json_pattern = r'\\{.*?\\}'\n",
    "    matches = re.findall(json_pattern, text, re.DOTALL)\n",
    "    print(len(matches))\n",
    "    \n",
    "    if len(matches) > 0:\n",
    "        return matches\n",
    "    else:\n",
    "        return None\n",
    "    \n",
    "\n",
    "# 把字符串转换成json格式\n",
    "def list_to_json(list):\n",
    "    r = []\n",
    "    for t in list:\n",
    "        j = json.loads(t)\n",
    "        r.append(j)\n",
    "    return r\n",
    "\n"
   ]
  },
  {
   "cell_type": "code",
   "execution_count": 15,
   "metadata": {},
   "outputs": [
    {
     "name": "stdout",
     "output_type": "stream",
     "text": [
      "100\n"
     ]
    },
    {
     "name": "stderr",
     "output_type": "stream",
     "text": [
      "Saving the dataset (1/1 shards): 100%|██████████| 100/100 [00:00<00:00, 4272.27 examples/s]\n"
     ]
    }
   ],
   "source": [
    "# 读取docx文档\n",
    "file_path = \"../data/docx/zysft.docx\"\n",
    "text = read_docx_file(file_path)\n",
    "\n",
    "# 提取json部分\n",
    "json_text = extract_json(text)\n",
    "\n",
    "# 转换成json list\n",
    "list = list_to_json(json_text)\n",
    "\n",
    "#转换成datasets\n",
    "dataset = Dataset.from_list(list)\n",
    "\n",
    "dataset = dataset.rename_column('instruct', 'instruction')\n",
    "\n",
    "\n",
    "#保存数据\n",
    "dataset.save_to_disk(\"../data/datasets/zysft\")"
   ]
  },
  {
   "cell_type": "code",
   "execution_count": 5,
   "metadata": {},
   "outputs": [],
   "source": [
    "\n",
    "j = dataset.from_json(\"../data/json/alpaca_data_cleaned_archive.json\")"
   ]
  },
  {
   "cell_type": "code",
   "execution_count": 6,
   "metadata": {},
   "outputs": [
    {
     "data": {
      "text/plain": [
       "Dataset({\n",
       "    features: ['instruction', 'output', 'input'],\n",
       "    num_rows: 51759\n",
       "})"
      ]
     },
     "execution_count": 6,
     "metadata": {},
     "output_type": "execute_result"
    }
   ],
   "source": [
    "j"
   ]
  },
  {
   "cell_type": "code",
   "execution_count": 7,
   "metadata": {},
   "outputs": [],
   "source": [
    "combined_dataset = concatenate_datasets([dataset, j])"
   ]
  },
  {
   "cell_type": "code",
   "execution_count": 8,
   "metadata": {},
   "outputs": [
    {
     "name": "stderr",
     "output_type": "stream",
     "text": [
      "Saving the dataset (1/1 shards): 100%|██████████| 51859/51859 [00:00<00:00, 807665.56 examples/s]\n"
     ]
    }
   ],
   "source": [
    "combined_dataset.save_to_disk(\"../data/datasets/zysft\")"
   ]
  },
  {
   "cell_type": "code",
   "execution_count": 9,
   "metadata": {},
   "outputs": [
    {
     "data": {
      "text/plain": [
       "{'instruction': 'Generate a story describing the emotions of a character in a given situation.',\n",
       " 'input': \"Alice is stuck in traffic, trying to get to her parent's house for Thanksgiving.\",\n",
       " 'output': \"Alice pounded her fists on the steering wheel as she looked out the window at the gridlocked cars stretching on for miles. She was desperate to reach her parents' house in time for Thanksgiving, but it seemed like every driver on the road had decided to take the same route she had. Anger and frustration built within her as the minutes ticked by, feeling like hours. Her only hope was that somehow, some way, she would still make it on time.\"}"
      ]
     },
     "execution_count": 9,
     "metadata": {},
     "output_type": "execute_result"
    }
   ],
   "source": [
    "combined_dataset[1000]"
   ]
  },
  {
   "cell_type": "code",
   "execution_count": 10,
   "metadata": {},
   "outputs": [],
   "source": [
    "dataset = load_from_disk(\"../data/datasets/zysft\")"
   ]
  },
  {
   "cell_type": "code",
   "execution_count": 11,
   "metadata": {},
   "outputs": [
    {
     "data": {
      "text/plain": [
       "{'instruction': '解释五行相生和相克之间的关系。',\n",
       " 'input': '五行相生和相克是五行理论中的两个基本概念。相生是指五行之间的相互促进和滋养，例如木生火表示木能够促进火的生成。相克则是五行之间的相互制约和克制，例如木克土表示木能够制约土的过度发展。这两种关系在五行理论中是相辅相成的，相生关系保证了五行之间的正向发展，而相克关系则是一种负向调节，防止任何一行的过度发展而破坏整体平衡。',\n",
       " 'output': '五行相生和相克之间的关系是相辅相成的，相生关系促进五行之间的正向发展和相互支持，而相克关系则提供了负向调节，以防止任何一行的过度发展破坏整体的平衡。这两种关系共同维持了五行系统的动态平衡和协调发展。'}"
      ]
     },
     "execution_count": 11,
     "metadata": {},
     "output_type": "execute_result"
    }
   ],
   "source": [
    "dataset[1]"
   ]
  },
  {
   "cell_type": "code",
   "execution_count": 12,
   "metadata": {},
   "outputs": [
    {
     "data": {
      "text/plain": [
       "Dataset({\n",
       "    features: ['instruction', 'input', 'output'],\n",
       "    num_rows: 51859\n",
       "})"
      ]
     },
     "execution_count": 12,
     "metadata": {},
     "output_type": "execute_result"
    }
   ],
   "source": [
    "dataset"
   ]
  },
  {
   "cell_type": "code",
   "execution_count": null,
   "metadata": {},
   "outputs": [],
   "source": []
  }
 ],
 "metadata": {
  "kernelspec": {
   "display_name": "base",
   "language": "python",
   "name": "python3"
  },
  "language_info": {
   "codemirror_mode": {
    "name": "ipython",
    "version": 3
   },
   "file_extension": ".py",
   "mimetype": "text/x-python",
   "name": "python",
   "nbconvert_exporter": "python",
   "pygments_lexer": "ipython3",
   "version": "3.11.4"
  },
  "orig_nbformat": 4
 },
 "nbformat": 4,
 "nbformat_minor": 2
}
