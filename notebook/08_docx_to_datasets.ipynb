{
 "cells": [
  {
   "cell_type": "code",
   "execution_count": 4,
   "metadata": {},
   "outputs": [],
   "source": [
    "from docx import Document\n",
    "from datasets import Dataset, load_from_disk\n",
    "import os"
   ]
  },
  {
   "cell_type": "code",
   "execution_count": 2,
   "metadata": {},
   "outputs": [],
   "source": [
    "# # 读取.docx文件\n",
    "# def read_docx(file_path):\n",
    "#     doc = Document(file_path)\n",
    "#     text = [paragraph.text for paragraph in doc.paragraphs if paragraph.text]\n",
    "#     return text"
   ]
  },
  {
   "cell_type": "code",
   "execution_count": 4,
   "metadata": {},
   "outputs": [],
   "source": [
    "def read_docx_derectory(path):\n",
    "    text = []\n",
    "    for file in os.listdir(path):\n",
    "        print(file)\n",
    "        doc_path = os.path.join(path, file)\n",
    "        sub_doc = Document(doc_path)        \n",
    "        sub_text = [paragraph.text for paragraph in sub_doc.paragraphs if paragraph.text and paragraph.text != \"######\"]\n",
    "        text.extend(sub_text)\n",
    "    return text"
   ]
  },
  {
   "cell_type": "code",
   "execution_count": 5,
   "metadata": {},
   "outputs": [],
   "source": [
    "# 将文本转换为datasets格式\n",
    "def convert_to_dataset(text_data):\n",
    "    dataset = Dataset.from_dict({'text': text_data})\n",
    "    return dataset"
   ]
  },
  {
   "cell_type": "code",
   "execution_count": 6,
   "metadata": {},
   "outputs": [],
   "source": [
    "# 示例文件路径\n",
    "file_path = \"../data/docx/block/wu_xin.docx\"\n",
    "dir_path = \"../data/docx/block\""
   ]
  },
  {
   "cell_type": "code",
   "execution_count": 7,
   "metadata": {},
   "outputs": [
    {
     "name": "stdout",
     "output_type": "stream",
     "text": [
      "liu_jin_bian_zheng.docx\n",
      "zhong_yi_ru_unknow.docx\n",
      "yue_mei_zhong.docx\n",
      "wu_xin.docx\n",
      "zhang_fu_bing_zheng_chang_yong_yao_fan.docx\n",
      "zhong_yi_ji_chu_li_lun.docx\n",
      "bin_yin_bin_ji.docx\n",
      "ba_gan_ba_fa.docx\n"
     ]
    },
    {
     "name": "stderr",
     "output_type": "stream",
     "text": [
      "Saving the dataset (1/1 shards): 100%|██████████| 6888/6888 [00:00<00:00, 792233.14 examples/s]"
     ]
    },
    {
     "name": "stdout",
     "output_type": "stream",
     "text": [
      "Dataset({\n",
      "    features: ['text'],\n",
      "    num_rows: 6888\n",
      "})\n"
     ]
    },
    {
     "name": "stderr",
     "output_type": "stream",
     "text": [
      "\n"
     ]
    }
   ],
   "source": [
    "# 读取并转换数据\n",
    "text_data = read_docx_derectory(dir_path)\n",
    "dataset = convert_to_dataset(text_data)\n",
    "\n",
    "dataset.save_to_disk(\"../data/datasets/zypt\")\n",
    "# 保存dataset\n",
    "# 展示datasets\n",
    "print(dataset)"
   ]
  },
  {
   "cell_type": "code",
   "execution_count": 9,
   "metadata": {},
   "outputs": [
    {
     "data": {
      "text/plain": [
       "{'text': '六经是指太阳、阳明、少阳、太阴、少阴、厥阴六者而言。张仲景创造性地把外感病错综复杂的证候，概括在六经中，以此来认识、分析外感病的演变规律。这种概括是在中医理论的指导下，深刻地分析了疾病的病势，人体的正气强弱，正邪的消长，立法处方等方面的问题。因此，六经实质上是作为辨证论治的纲领和准则出现的，是一种辨证的方法和手段。这就与经络之经，有着本质的不同，六经不是六条经络，这一点必须十分明确。'}"
      ]
     },
     "execution_count": 9,
     "metadata": {},
     "output_type": "execute_result"
    }
   ],
   "source": [
    "dataset[1]"
   ]
  },
  {
   "cell_type": "code",
   "execution_count": 5,
   "metadata": {},
   "outputs": [],
   "source": [
    "zydata = load_from_disk(\"/home/ysx/src/AI/llm_demo/data/datasets/zypt\")"
   ]
  },
  {
   "cell_type": "code",
   "execution_count": 10,
   "metadata": {},
   "outputs": [
    {
     "data": {
      "text/plain": [
       "{'text': '因时制宜：根据不同季 气候的变化特点，来考虑治疗用药，就叫因时制宜。在春夏季节，气误由温转热，阳气升发，人体腠理疏松开泄，就是患外感风太，应当发表，也不要过用辛温发散峻剂，以免开泄太过，耗伤阴津和阳气；而秋冬季节，气候由凉变寒；阴盛阳衰，人体腠理致密，阳气敛藏于内，此时若非大热就当领用寒凉之品，以防苦寒伤阳 。因地制宜：根据不同地区的地理环境特点，来考虑治疗用药的原则，叫“因地制宜”。由于气候条件及生活习惯不同，人的生理活动和病变往往具有特殊性，所以治疗用药也有差别。如我国西北地区，地势高而寒冷少雨，故其多病燥寒，治宜辛润；东南地区，地势低而温热多雨，故其多病湿热，治宜清化，说明地区不同，患病各异，而治疗也当有别。就是患有相同病证，治疗用药亦当考虑不同地区的特点，例如，用辛温解表药治疗外感风寒证，在西北严寒地区，药量可以稍重，而在东南温热地区，药量就应稍轻，或竟改用轻淡宣泄之品。此外，某些地区还有地方病，治疗时亦应加以注意。因人制宜：根据病人年龄、性别、体质、生活习惯等不同特点，来考虑治疗用药的原则，叫做“因人制宜”。例如，年龄不同，生理机能及病变特点亦不同，老年人气血衰少，生机减退，患病多虚证或正虚邪实，治疗时，虚证宜补，而邪实须攻者亦应慎重，以免损伤正气；小儿生机旺盛，但气血未充，脏腑矫嫩，且婴幼儿生活不能自理，多病饥饱不匀，寒温失调，故治小儿，忌投峻剂，尤当慎用补剂。 一般用药剂量，亦必须根据年龄加以区别，药量太小则不足以祛病，太大则反伤正气。男女性别不同，各有其生理特点，尤其妇女患者有月经、怀孕、产后等情况，治疗用药必须加以考虑，如经期慎用寒凉药，孕期忌用攻下破血药等。在体质方面，由于每个人的先天禀赋和后天调养不同，个体素质不但强弱不等，而且还有偏寒偏热不同，以及素有某种慢性疾病等不同情况，所以虽患同样疾病，治疗用药亦当有所区别。如阳热之体质慎用温热之品，阴寒之体质慎用寒凉之药等。总之，我们看病时，不能孤立地看病，还要看人，人的体质不同，治疗也不同。不仅看人还要看人与自然界有不可分割的关系，应全面看问题，治疗时一定要考虑到，个人体质气候、地理等因素，具体情况具体分析，才能取得较好的治疗效果。'}"
      ]
     },
     "execution_count": 10,
     "metadata": {},
     "output_type": "execute_result"
    }
   ],
   "source": [
    "zydata[6887]"
   ]
  },
  {
   "cell_type": "code",
   "execution_count": null,
   "metadata": {},
   "outputs": [],
   "source": []
  }
 ],
 "metadata": {
  "kernelspec": {
   "display_name": "base",
   "language": "python",
   "name": "python3"
  },
  "language_info": {
   "codemirror_mode": {
    "name": "ipython",
    "version": 3
   },
   "file_extension": ".py",
   "mimetype": "text/x-python",
   "name": "python",
   "nbconvert_exporter": "python",
   "pygments_lexer": "ipython3",
   "version": "3.11.4"
  }
 },
 "nbformat": 4,
 "nbformat_minor": 2
}
