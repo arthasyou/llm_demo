{
 "cells": [
  {
   "cell_type": "code",
   "execution_count": 19,
   "metadata": {},
   "outputs": [],
   "source": [
    "from docx import Document\n",
    "from datasets import Dataset\n",
    "import os"
   ]
  },
  {
   "cell_type": "code",
   "execution_count": 2,
   "metadata": {},
   "outputs": [],
   "source": [
    "# 读取.docx文件\n",
    "def read_docx(file_path):\n",
    "    doc = Document(file_path)\n",
    "    text = [paragraph.text for paragraph in doc.paragraphs if paragraph.text]\n",
    "    return text"
   ]
  },
  {
   "cell_type": "code",
   "execution_count": 54,
   "metadata": {},
   "outputs": [],
   "source": [
    "def read_docx_derectory(path):\n",
    "    text = []\n",
    "    for file in os.listdir(path):\n",
    "        print(file)\n",
    "        doc_path = os.path.join(path, file)\n",
    "        sub_doc = Document(doc_path)        \n",
    "        sub_text = [paragraph.text for paragraph in sub_doc.paragraphs if paragraph.text and paragraph.text != \"######\"]\n",
    "        text.extend(sub_text)\n",
    "    return text"
   ]
  },
  {
   "cell_type": "code",
   "execution_count": 3,
   "metadata": {},
   "outputs": [],
   "source": [
    "# 将文本转换为datasets格式\n",
    "def convert_to_dataset(text_data):\n",
    "    dataset = Dataset.from_dict({'text': text_data})\n",
    "    return dataset"
   ]
  },
  {
   "cell_type": "code",
   "execution_count": 36,
   "metadata": {},
   "outputs": [],
   "source": [
    "# 示例文件路径\n",
    "file_path = \"../data/docx/block/wu_xin.docx\"\n",
    "dir_path = \"../data/docx/block\""
   ]
  },
  {
   "cell_type": "code",
   "execution_count": 57,
   "metadata": {},
   "outputs": [
    {
     "name": "stdout",
     "output_type": "stream",
     "text": [
      "wu_xin.docx\n",
      "bin_yin_bin_ji.docx\n",
      "liu_jin_bian_zheng.docx\n",
      "ba_gan_ba_fa.docx\n"
     ]
    },
    {
     "data": {
      "application/vnd.jupyter.widget-view+json": {
       "model_id": "93e1d2bfc10a489a8882a7a9ada00e3b",
       "version_major": 2,
       "version_minor": 0
      },
      "text/plain": [
       "Saving the dataset (0/1 shards):   0%|          | 0/1496 [00:00<?, ? examples/s]"
      ]
     },
     "metadata": {},
     "output_type": "display_data"
    },
    {
     "name": "stdout",
     "output_type": "stream",
     "text": [
      "Dataset({\n",
      "    features: ['text'],\n",
      "    num_rows: 1496\n",
      "})\n"
     ]
    }
   ],
   "source": [
    "# 读取并转换数据\n",
    "text_data = read_docx_derectory(dir_path)\n",
    "dataset = convert_to_dataset(text_data)\n",
    "\n",
    "dataset.save_to_disk(\"../data/datasets/zypt\")\n",
    "# 保存dataset\n",
    "# 展示datasets\n",
    "print(dataset)"
   ]
  },
  {
   "cell_type": "code",
   "execution_count": 50,
   "metadata": {},
   "outputs": [
    {
     "data": {
      "application/vnd.jupyter.widget-view+json": {
       "model_id": "b2cfdd841deb4c339415f6da8371cf54",
       "version_major": 2,
       "version_minor": 0
      },
      "text/plain": [
       "Saving the dataset (0/1 shards):   0%|          | 0/242 [00:00<?, ? examples/s]"
      ]
     },
     "metadata": {},
     "output_type": "display_data"
    },
    {
     "name": "stdout",
     "output_type": "stream",
     "text": [
      "Dataset({\n",
      "    features: ['text'],\n",
      "    num_rows: 242\n",
      "})\n"
     ]
    }
   ],
   "source": [
    "\n",
    "# 读取并转换数据\n",
    "text_data = read_docx(file_path)\n",
    "dataset = convert_to_dataset(text_data)\n",
    "\n",
    "dataset.save_to_disk(\"../data/datasets/wx\")\n",
    "# 保存dataset\n",
    "# 展示datasets\n",
    "print(dataset)"
   ]
  },
  {
   "cell_type": "code",
   "execution_count": null,
   "metadata": {},
   "outputs": [],
   "source": [
    "# 读取并转换数据\n",
    "text_data = read_docx(file_path)\n",
    "dataset = convert_to_dataset(text_data)\n",
    "\n",
    "dataset.save_to_disk(\"../data/datasets/wx\")\n",
    "# 保存dataset\n",
    "# 展示datasets\n",
    "print(dataset)"
   ]
  },
  {
   "cell_type": "code",
   "execution_count": 61,
   "metadata": {},
   "outputs": [
    {
     "data": {
      "text/plain": [
       "'老子即老聃，大约生于周简王6年(公元前580年),约卒于周敬王20年(公元前500年),是春秋末期人物。老子著《老子》(后来被称为《道德经》) 一书， 一是提出“道”是世界的核心，为万物之源，为“气”或“精气”学说的先声；二是提出了“无为”的思想，认为人当顺应自然，不可求者不当强求，中医学中“养生”学说和“效法自然”的思想是深受《老子》的影响；三是书中充满了辩证法思想，《老子》的辩证法思想对中医学理论体系发生了重要的影响。'"
      ]
     },
     "execution_count": 61,
     "metadata": {},
     "output_type": "execute_result"
    }
   ],
   "source": [
    "dataset[3]['text']"
   ]
  },
  {
   "cell_type": "code",
   "execution_count": null,
   "metadata": {},
   "outputs": [],
   "source": []
  }
 ],
 "metadata": {
  "kernelspec": {
   "display_name": "base",
   "language": "python",
   "name": "python3"
  },
  "language_info": {
   "codemirror_mode": {
    "name": "ipython",
    "version": 3
   },
   "file_extension": ".py",
   "mimetype": "text/x-python",
   "name": "python",
   "nbconvert_exporter": "python",
   "pygments_lexer": "ipython3",
   "version": "3.11.4"
  }
 },
 "nbformat": 4,
 "nbformat_minor": 2
}
