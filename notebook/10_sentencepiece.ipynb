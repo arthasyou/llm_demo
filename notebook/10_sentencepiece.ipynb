{
 "cells": [
  {
   "cell_type": "code",
   "execution_count": 1,
   "metadata": {},
   "outputs": [],
   "source": [
    "import sentencepiece as spm\n",
    "\n",
    "# 训练 SentencePiece 模型\n",
    "spm.SentencePieceBPETokenizer.train('--input=wikitext-103-raw/wiki.train.raw --model_prefix=m --vocab_size=32000')\n",
    "\n",
    "# 这将生成两个文件：m.model 和 m.vocab\n",
    "# m.model 是训练好的模型，m.vocab 是词汇表\n"
   ]
  },
  {
   "cell_type": "code",
   "execution_count": null,
   "metadata": {},
   "outputs": [],
   "source": []
  }
 ],
 "metadata": {
  "kernelspec": {
   "display_name": "base",
   "language": "python",
   "name": "python3"
  },
  "language_info": {
   "codemirror_mode": {
    "name": "ipython",
    "version": 3
   },
   "file_extension": ".py",
   "mimetype": "text/x-python",
   "name": "python",
   "nbconvert_exporter": "python",
   "pygments_lexer": "ipython3",
   "version": "3.11.4"
  }
 },
 "nbformat": 4,
 "nbformat_minor": 2
}
