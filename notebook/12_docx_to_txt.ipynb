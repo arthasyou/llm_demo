{
 "cells": [
  {
   "cell_type": "code",
   "execution_count": 12,
   "metadata": {},
   "outputs": [],
   "source": [
    "import os\n",
    "from docx import Document\n",
    "\n",
    "def combine_docx_to_txt(directory, output_file):\n",
    "    with open(output_file, 'w', encoding='utf-8') as txt_file:\n",
    "        for filename in os.listdir(directory):\n",
    "            print(filename)\n",
    "            if filename.endswith('.docx'):\n",
    "                doc_path = os.path.join(directory, filename)\n",
    "                doc = Document(doc_path)\n",
    "                sub_text = [paragraph.text for paragraph in doc.paragraphs if paragraph.text and paragraph.text != \"######\"]\n",
    "                for para in sub_text:\n",
    "                    txt_file.write(para + \"\\n\")"
   ]
  },
  {
   "cell_type": "code",
   "execution_count": 13,
   "metadata": {},
   "outputs": [
    {
     "name": "stdout",
     "output_type": "stream",
     "text": [
      "1-0 现代著名老中医著作 - 中医入门 净-块.docx\n",
      "1-6自学中医之路-脏腑病证常用方药 净 - 块.docx\n",
      "中医基础理论 净小精 - 块.docx\n",
      "自学中医之路丛书—六经辨证——净+(1).docx\n",
      "自学中医之路丛书—八纲与八法——净++.docx\n",
      "1-7 岳美中-净 - 块.docx\n",
      "自学中医之路丛书—阴阳五行学说 净++.docx\n",
      "自学中医之路丛书—病因病机学说——净++(1).docx\n"
     ]
    }
   ],
   "source": [
    "# Specify your directory and output file\n",
    "directory_path = '../data/docx/clean/'  # Replace with your directory path\n",
    "output_txt_file = '../data/txt/zypt.txt'      # The output text file name\n",
    "\n",
    "combine_docx_to_txt(directory_path, output_txt_file)"
   ]
  }
 ],
 "metadata": {
  "kernelspec": {
   "display_name": "base",
   "language": "python",
   "name": "python3"
  },
  "language_info": {
   "codemirror_mode": {
    "name": "ipython",
    "version": 3
   },
   "file_extension": ".py",
   "mimetype": "text/x-python",
   "name": "python",
   "nbconvert_exporter": "python",
   "pygments_lexer": "ipython3",
   "version": "3.11.4"
  }
 },
 "nbformat": 4,
 "nbformat_minor": 2
}
