{
 "cells": [
  {
   "cell_type": "code",
   "execution_count": 1,
   "metadata": {},
   "outputs": [],
   "source": [
    "import os\n",
    "from docx import Document\n",
    "\n",
    "def combine_docx_to_txt(directory, output_file):\n",
    "    with open(output_file, 'w', encoding='utf-8') as txt_file:\n",
    "        for filename in os.listdir(directory):\n",
    "            if filename.endswith('.docx'):\n",
    "                doc_path = os.path.join(directory, filename)\n",
    "                doc = Document(doc_path)\n",
    "                for para in doc.paragraphs:\n",
    "                    txt_file.write(para.text + '\\n')"
   ]
  },
  {
   "cell_type": "code",
   "execution_count": 3,
   "metadata": {},
   "outputs": [],
   "source": [
    "# Specify your directory and output file\n",
    "directory_path = '../data/docx/clean/'  # Replace with your directory path\n",
    "output_txt_file = '../data/txt/zypt.txt'      # The output text file name\n",
    "\n",
    "combine_docx_to_txt(directory_path, output_txt_file)"
   ]
  }
 ],
 "metadata": {
  "kernelspec": {
   "display_name": "base",
   "language": "python",
   "name": "python3"
  },
  "language_info": {
   "codemirror_mode": {
    "name": "ipython",
    "version": 3
   },
   "file_extension": ".py",
   "mimetype": "text/x-python",
   "name": "python",
   "nbconvert_exporter": "python",
   "pygments_lexer": "ipython3",
   "version": "3.11.4"
  }
 },
 "nbformat": 4,
 "nbformat_minor": 2
}
